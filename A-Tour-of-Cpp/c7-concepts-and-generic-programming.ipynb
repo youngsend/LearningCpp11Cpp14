{
 "cells": [
  {
   "cell_type": "markdown",
   "metadata": {},
   "source": [
    "# Chapter 7: Concepts and Generic Programming\n",
    "## ConceptsありやConceptsなしのtemplateはどう違う？\n",
    "- Conceptsのチェックタイミングや従来のTemplateのチェックは全部compile時でやる。\n",
    "    - もっと厳密に言うと、pre-conceptのコードはtemplate instantiation timeでチェックが行う。\n",
    "        - template instantiation time: when code is generated for the template and a set of template arguments.\n",
    "    - conceptsはinstantiationの前は既にチェックできる。\n",
    "- では、なぜConceptsが必要？\n",
    "    - Conceptsがないと、templateをチェックするために、implementationを見ないと行けない。\n",
    "        - このチェック方法は**duck typing**と言う。If it walks like a duck and it quacks like a duck, it's a duck.^^\n",
    "\t- Conceptsがあったら、interfaceだけ見れば、チェックできる。\n",
    "- 例えば、Conceptsなしのtemplate関数：\n",
    "\t```c++\n",
    "\ttemplate<typename Seq, typename Num>\n",
    "\tNum sum(Seq s, Num v){\n",
    "        for (const auto& x : s)\n",
    "            v+=x;\n",
    "        return v;\n",
    "    }\n",
    "\t```\n",
    "    - SeqやNum template argumentsの正しさをチェックするために、実現コードを見ないと行けない。\n",
    "    - 実現コードを見て、Seqは必ずsome kind of sequence,Numは必ずsome kind of numberが分かる。\n",
    "- またConceptsありのtemplate関数：\n",
    "    ```c++\n",
    "\ttemplate<Sequence Seq, Number Num>\n",
    "\tNum sum(Seq s, Num v){\n",
    "        for (const auto& x : s)\n",
    "            v+=x;\n",
    "        return v;\n",
    "    }\n",
    "\t```\n",
    "    - SequenceやNumberのConceptsがちゃんと定義されたら、この関数のinterfaceを見るだけで既にargumentsをチェックできる。"
   ]
  },
  {
   "cell_type": "markdown",
   "metadata": {},
   "source": [
    "## Advice\n",
    "- When designing a template, use a concrete version for initial implementation, debugging, and measurement.\n",
    " - つまり本当に必要な場合のみtemplate化する。そのそのある関数は１つtypeのargumentsを対応すればいい場合に、templateにするな。\n",
    "- Use a lambda if you need a simple function object in one place only.\n",
    " - これはまだできていないところ。\n",
    "- Use templates to express containers and ranges.\n",
    "- Use variadic templates when you need a function that takes a variable number of **arguments of a variety of types**.\n",
    " - variadic templatesはまだ使ったことがない。\n",
    " - **Don't use variadic templates** for **homogeneous argument lists** (prefer initializer lists for that).\n",
    "     - もしargumentsが同タイプだったら、initializer listsを使おう。https://en.cppreference.com/w/cpp/utility/initializer_list\n",
    "     - `std::initializer_list<T>`\n",
    "- Templates offer compile-time \"duck typing\"."
   ]
  },
  {
   "cell_type": "code",
   "execution_count": null,
   "metadata": {},
   "outputs": [],
   "source": []
  }
 ],
 "metadata": {
  "kernelspec": {
   "display_name": "Python 3",
   "language": "python",
   "name": "python3"
  },
  "language_info": {
   "codemirror_mode": {
    "name": "ipython",
    "version": 3
   },
   "file_extension": ".py",
   "mimetype": "text/x-python",
   "name": "python",
   "nbconvert_exporter": "python",
   "pygments_lexer": "ipython3",
   "version": "3.6.9"
  }
 },
 "nbformat": 4,
 "nbformat_minor": 2
}
